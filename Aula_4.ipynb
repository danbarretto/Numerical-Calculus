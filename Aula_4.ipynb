{
  "nbformat": 4,
  "nbformat_minor": 0,
  "metadata": {
    "colab": {
      "name": "Aula 4.ipynb",
      "provenance": []
    },
    "kernelspec": {
      "name": "python3",
      "display_name": "Python 3"
    }
  },
  "cells": [
    {
      "cell_type": "markdown",
      "metadata": {
        "id": "AyZJoJDX4phU",
        "colab_type": "text"
      },
      "source": [
        "# Métodos Iterativos\n",
        "Seja $ Ax = b $ um sistema linear de onde $ det(A) \\neq 0 $.\n",
        "\n",
        "## Objetivo:\n",
        "Queremos definir um processo de modo que a sequência de vetores $ \\{ x^{0)}, x^{(1)}, \\dots\\} $ produzida por este processo iterativo convirja para solução x, indpendentemente da escolha do chute inicial $ x^{(0)} \\in \\mathbb{R}^n $.\n",
        "## Definição:\n",
        "Uma sequência de vetores $ \\{ x^{0)}, x^{(1)}, \\dots\\} $ converge para um vetor x , se $ \\lim_{k\\to+\\infty} || x^{(k)} - x || = 0 $.\n",
        "### Notação:\n",
        "$ x^{(k)} \\rightarrow x $\n",
        "\n",
        "## Ideia Principal:\n",
        "Vamoe criar um processo recursivo através de um sistema equivalente a $ Ax = b $.\n",
        "1. Transformar $ Ax=b $ em um sistema equivalente da forma $ x = Cx+g$ em que $C \\in M_n(\\mathbb{R}^N) $ e $ g \\in \\mathbb{R}^n $ são conhecidos.\n",
        "2. Dado um chute inicial $ x^{(0)} $, obtemos uma sequência $ \\{ x^{0)}, x^{(1)}, \\dots\\} $ através do processo iterativo $ x^{(k+1)} = Cx^{(k)} + g, k=0,1,\\dots $\n",
        "\n",
        "### Perguntas\n",
        "* Dado $ Ax = b $, é possível obter um sistema equivalente $ x = Cx + g $ ?\n",
        "  - Sim, por exemplo, basta tomarmos $ C = I - A $ e $ g = b$ $$( x=(I-A)x+b \\iff Ax=b)$$\n",
        "- Se $ x^{(k)} \\rightarrow \\bar{x} $, então $ \\bar{x} $ é solução de $ Ax=b $?\n",
        "  - Sim, passando o limite em $ x^{(k+1)} = Cx^{(k)} + g $ temos que $ \\bar{x} = C\\bar{x} +g $. Como os sistemas são equivalentes segue que $ A\\bar{x} = b $.\n",
        "- Quando $ x^{(k)} \\rightarrow x$?\n",
        " - Critérios de convergência\n",
        "- Quando terminar o processo iterativo $ \\{ x^{0)}, x^{(1)}, \\dots\\} $?\n",
        "  - Critérios de parada\n",
        "\n",
        "## Critérios de Parada\n",
        "Dados $ \\epsilon > 0 $ e $ k_{\\text{max}} \\in \\mathbb{N} $\n",
        "* Erro absoluto\n",
        "  * $ || x^{(k+1)} - x^{(k)} || < \\epsilon $\n",
        "* Erro relativo\n",
        "  * $ \\frac{|| x^{(k+1)} - x^{(k)}||}{|| x^{(k+1)} ||} < \\epsilon $\n",
        "* Teste resíduo\n",
        "  * $ || b - Ax^{(k)} || < \\epsilon $ \n",
        "* Número máximo de iterações $ k = k_{\\text{max}} $\n",
        "\n",
        "## Convergência\n",
        "### Definição: (Raio Espectral)\n",
        "O raio espectral de uma matriz $ A \\in M_n(\\mathbb{R}^n) $ é definido como $ \\rho(A) = max_{i=1,\\dots,n} \\{ |\\lambda_i|\\}$, onde $ \\lambda_i $ são os autovalores de A.\n",
        "\n",
        "### Teorema (Critério Geral de Convergência)\n",
        "\n",
        "Seja $ \\{ x^{0)}, x^{(1)}, \\dots\\} $ sequência gerada pelo processo iterativo $ x^{(k+1)} = Cx^{(k)} + g $.\n",
        "1. Se $ || C ||_M < 1 $, onde $ ||.||_M$ é uma norma consistente, então a sequência converge.\n",
        "2. $ x^{(k)} \\rightarrow x \\iff \\rho(C) < 1 $"
      ]
    },
    {
      "cell_type": "markdown",
      "metadata": {
        "id": "yhEi2lK8CVPB",
        "colab_type": "text"
      },
      "source": [
        "# Método de Gauss - Jacobi\n",
        "Dado $ Ax=b$ e supondo sem perda de generalidades que $ a_{ii} \\neq 0 $; $ i=1,\\dots, n$, temos\n",
        "$$ \\begin{cases} \n",
        "a_{ii}x_1 + a_{12}x_2 + \\dots + a_{1n}x_n = b_1 \\\\\n",
        "   a_{21}x_1 + a_{22}x_2 + \\dots + a_{2n}x_n = b_2 \\\\\n",
        "   \\vdots \\\\\n",
        "   a_{n1}x_1 + a_{n2}x_2 + \\dots + a_{nn}x_n = b_n  \n",
        "\\end{cases}\n",
        "\\\\\n",
        "$$\n",
        "\n",
        "$$ \\begin{cases} \n",
        "  x_1 = (b_1 - a_{12}x_2 - \\dots - a_{1n}x_n)/a_{11} \\\\\n",
        "  x_2 = (b_2 - a_{21}x_1 - \\dots - a_{2n}x_n)/a_{22} \\\\\n",
        "  \\vdots \\\\\n",
        "  x_n = (b_n - a_{n1}x_1 - \\dots - a_{n n-1}x_{n-1})/a_n\n",
        "\\end{cases}\n",
        "\\\\\n",
        "$$\n",
        "Desta forma, temos um sistema equivalente, $ x= Cx + g $, em que\n",
        "$$\n",
        "C = \n",
        "\\begin{bmatrix}\n",
        " 0 && - a_{12}/a_{11} && \\dots && - a_{1n}/a_{11} \\\\\n",
        " - a_{21}/a_{22} && 0 && \\dots && -a_{2n}/a_{22} \\\\\n",
        " \\vdots \\\\\n",
        "  -a_{n1}/a_{nn} && \\dots && \\dots && \\dots 0\n",
        "\\end{bmatrix} \\\\ $$ \n",
        "$$\n",
        "\\\\\n",
        "g = \\begin{bmatrix}\n",
        "  b_1/a_{11} \\\\\n",
        "  b_2/a_{22} \\\\\n",
        "  \\vdots \\\\\n",
        "  b_n/a_{nn}\n",
        "\\end{bmatrix}\n",
        "$$\n",
        "Portanto, dado um chute inicial $x_0$, o processo iterativo é dado por\n",
        "$$ \\\\ \\begin{cases} \n",
        "  x_1^{(k+1)} = (b_1 - a_{12}x_2^{(k)} - \\dots - a_{1n}x_n^{(k)})/a_{11} \\\\\n",
        "  \\vdots \\\\\n",
        "  x_n^{(k+1)} = (b_n - a_{n1}x_1^{(k)} - \\dots - a_{n n-1}x_{n-1}^{(k)})/a_n\n",
        "\\end{cases}\n",
        "\\\\\n",
        "$$ ou $ x^{(k+1)} = Cx^{(k)} + g $\n",
        "\n",
        "Vamos mostrar como obter $ x^{(k+1)} = Cx^{(k)} + g $ a partir de $Ax=b$. Seja D uma matriz diagonal formada pela diagonal de A.\n",
        "$$ Ax=b \\iff (A+D - D)x=b \\\\\n",
        "  (A-D)x + Dx = b \n",
        "$$\n",
        "Desta forma,\n",
        "$$ (A-D)x^{(k)} + Dx^{(k+1)} = b \\\\\n",
        "  \\iff Dx^{(k+1)} = (D-A)x^{(k)} +b\n",
        "$$ Portanto, $$ x^{(k+1)} = (I - D^{-1} A)x^{(k)} + D^{-1}b \\\\\n",
        "    (I- D^{-1}A) = C \\\\\n",
        "    D^{-1}b = g\n",
        "$$"
      ]
    },
    {
      "cell_type": "code",
      "metadata": {
        "id": "b1565_XmFqHU",
        "colab_type": "code",
        "colab": {}
      },
      "source": [
        ""
      ],
      "execution_count": 0,
      "outputs": []
    }
  ]
}