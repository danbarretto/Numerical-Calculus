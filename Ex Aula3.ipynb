{
 "cells": [
  {
   "cell_type": "code",
   "execution_count": 6,
   "metadata": {},
   "outputs": [],
   "source": [
    "import numpy as np\n",
    "#Solves ab = x\n",
    "def gaussElim(a, b):\n",
    "    n = len(b)\n",
    "    for k in range(n):\n",
    "        for i in range(k+1, n):\n",
    "             if a[i,k] != 0.0:\n",
    "                lan = a[i, k]/a[k,k]\n",
    "                a[i, k+1:n] = a[i, k+1:n] - lan*a[k,k+1:n]\n",
    "                b[i] = b[i] - lan*b[k]\n",
    "    for k in range(n-1, -1, -1):\n",
    "        b[k] = (b[k] - a[k,k+1:n].dot(b[k+1:n]))/a[k,k]\n",
    "    return b\n"
   ]
  },
  {
   "cell_type": "code",
   "execution_count": 8,
   "metadata": {},
   "outputs": [
    {
     "name": "stdout",
     "output_type": "stream",
     "text": [
      "[0 0 5]\n",
      "[-0.  0.  5.]\n"
     ]
    }
   ],
   "source": [
    "#Exemplo\n",
    "A = np.array([[1,2,0],[1,3,1],[-2,0,1]])\n",
    "B = np.array([3,5,-1])\n",
    "x = gaussElim(A,B)\n",
    "print(x)\n",
    "x1 = np.linalg.solve(A, B)\n",
    "print(x1)\n"
   ]
  },
  {
   "cell_type": "code",
   "execution_count": null,
   "metadata": {},
   "outputs": [],
   "source": []
  }
 ],
 "metadata": {
  "kernelspec": {
   "display_name": "Python 3",
   "language": "python",
   "name": "python3"
  },
  "language_info": {
   "codemirror_mode": {
    "name": "ipython",
    "version": 3
   },
   "file_extension": ".py",
   "mimetype": "text/x-python",
   "name": "python",
   "nbconvert_exporter": "python",
   "pygments_lexer": "ipython3",
   "version": "3.7.3"
  }
 },
 "nbformat": 4,
 "nbformat_minor": 2
}
