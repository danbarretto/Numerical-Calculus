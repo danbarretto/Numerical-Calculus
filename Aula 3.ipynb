{
 "cells": [
  {
   "cell_type": "markdown",
   "metadata": {},
   "source": [
    "# Sistemas lineares - Aula 3\n",
    "\n",
    "## Eliminação de Gauss com pivoteamento parcial\n",
    "O que acontece quando o pivô é zero ou muito próximo de zero?\n",
    "Como você usa o pivô para zerar todos os valores abaixo dele, se ele for zero é difícil ou impossível de zerar sua coluna.\n",
    "\n",
    "### Estratégia de pivoteamento parcial\n",
    "1. A cada passo K, antes da etapa de eliminação (antes de zerar todo mundo da coluna), encontre $p$ no intervalo $[k,n]$ tal que $|a_{pk}^{(k)} = max\\{|a_{1k}^{(k)}|\\}$\n",
    "2. Permute as linhas p e k (Implementação: exercício da lista)\n",
    "\n",
    "\n",
    "* **Como ficaria a fatoração LU agora que sabemos fazer pivoteamento?** $P\\cdot A = L\\cdot U$, onde $P$ uma matriz de permutação.\n",
    "\n",
    "#### Teorema\n",
    "Se $A \\in M_n(\\mathbb{R})$ é invertível, então existe uma única decomposição $P\\cdot A = L\\cdot U, det(A) = (-1)^p\\prod_{i=1}^{n}u_{ii}$, onde $p$ é o número de permutações de $A$\n",
    "\n",
    "Resolvendo $A\\cdot x = b$\n",
    "$(L\\cdot U)\\cdot x = (P\\cdot A)\\cdot x = P\\cdot b$\n",
    "\n",
    "* $L\\cdot y = P\\cdot b$ (substituições progressivas)\n",
    "* $U\\cdot x = y$ (substituições regressivas)\n",
    "\n",
    "**Implementação:** exercício.\n",
    "\n",
    "### Métodos diretos\n",
    "* Fatoração LU\n",
    "* Eliminação de Gauss\n",
    "\n",
    "### Métodos iterativos\n",
    "* $x_0, x_1, \\cdots, x_{(k)}$, com $x_{(k)} \\leftrightarrow x$ solução do sistema $A\\cdot x = b$.\n",
    "\n",
    "## Cálculo da inversa de uma matriz\n",
    "Seja $A \\in M_n(\\mathbb{R})$ uma matriz não singular. Vamos calcular a inversa de $A$, isto é, $A^{-1} = \n",
    "\\begin{bmatrix}\n",
    "v_1  \\cdots  v_n\n",
    "\\end{bmatrix}$, em que $v_i$ é a i-ésima coluna de A.  \n",
    "Portanto, $A\\cdot A_i = I$.  \n",
    "$A\\cdot \\begin{bmatrix}\n",
    "v_1  \\cdots  v_n\n",
    "\\end{bmatrix} = \\begin{bmatrix}\n",
    "e_1  \\cdots  e_n\n",
    "\\end{bmatrix}$  \n",
    "Portanto, basta resolver n sistemas lineares $A\\cdot v_i = e_i, i = 1, \\cdots, n$\n",
    "\n",
    "### Implementação\n",
    "Calcular a inversa de uma matriz A qualquer.\n",
    "* Fatoração LU de A (def lu)\n",
    "* Depois resolver n sistema $A\\cdot v_i = e_i$ (def triang sup e def triang inf)\n",
    "* $A^{-1} = \\begin{bmatrix}\n",
    "v_1  \\cdots  v_n\n",
    "\\end{bmatrix}$ (def inv)"
   ]
  },
  {
   "cell_type": "code",
   "execution_count": 13,
   "metadata": {},
   "outputs": [
    {
     "name": "stdout",
     "output_type": "stream",
     "text": [
      "[[ 1.  0.  0.]\n",
      " [ 1.  1.  0.]\n",
      " [-2.  4.  1.]]\n",
      "[[ 1.  2.  0.]\n",
      " [ 0.  1.  1.]\n",
      " [ 0.  0. -3.]]\n"
     ]
    }
   ],
   "source": [
    "import numpy as np\n",
    "\n",
    "# Fatoração LU\n",
    "def LU_factor(A): \n",
    "    n = np.shape(A)[0]\n",
    "    U = np.zeros((n, n))\n",
    "    L = np.eye(n)\n",
    "    \n",
    "    for i in np.arange(n):\n",
    "        for j in np.arange(i, n):\n",
    "            L[j, i] = A[j, i]\n",
    "            U[i, j] = A[i, j]\n",
    "            for k in np.arange(i):\n",
    "                U[i, j] -= L[i, k] * U[k, j]\n",
    "                L[j, i] -= L[j, k] * U[k, i]\n",
    "            L[j, i] /= U[i, i]\n",
    "    \n",
    "    return L, U       \n",
    "\n",
    "# Main program\n",
    "A = np.array([[1, 2,0], [1, 3,1],[-2, 0,1]])\n",
    "L, U = LU_factor(A)   \n",
    "print (L)\n",
    "print (U)"
   ]
  },
  {
   "cell_type": "code",
   "execution_count": null,
   "metadata": {},
   "outputs": [],
   "source": []
  }
 ],
 "metadata": {
  "kernelspec": {
   "display_name": "Python 3",
   "language": "python",
   "name": "python3"
  },
  "language_info": {
   "codemirror_mode": {
    "name": "ipython",
    "version": 3
   },
   "file_extension": ".py",
   "mimetype": "text/x-python",
   "name": "python",
   "nbconvert_exporter": "python",
   "pygments_lexer": "ipython3",
   "version": "3.7.5"
  }
 },
 "nbformat": 4,
 "nbformat_minor": 2
}
