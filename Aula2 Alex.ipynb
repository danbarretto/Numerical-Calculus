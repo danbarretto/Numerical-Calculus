{
 "cells": [
  {
   "cell_type": "markdown",
   "metadata": {},
   "source": [
    "# Sistemas Lineares \n",
    "$ A \\cdot x = b, A \\in M_n( \\mathbb{R} ), b \\in \\mathbb{R}^n $\n",
    "\n",
    "Sendo, A **não singular** ($ det(A) \\ne 0 $); então as colunas de A são l.i.  \n",
    "Logo, o vetor b se escreve de modo único como combinação linear das colunas de A.\n",
    "\n",
    "$$ A_1 \\cdot x_1 + \\cdots + A_n \\cdot x_n = b $$\n",
    "\n",
    "Assim, $ det(A) \\ne 0 \\implies A \\cdot x = b $ possui única solução.  \n",
    "Um sistema linear de ordem n possui uma única solução de uma das seguintes condições (equivalentes) vale:\n",
    "- $ det(A) \\ne 0 $\n",
    "- As colunas de A são l.i.\n",
    "- Existe $A^{-1}$ tal que $A \\cdot A^{-1} = A^{-1} \\cdot A = I$\n",
    "- $ posto(A) = n $   (dimensão do espaço gerado pelas linhas ou colunas de uma matriz)\n",
    "- $ Ker(A) = \\{0\\} $"
   ]
  },
  {
   "cell_type": "markdown",
   "metadata": {},
   "source": [
    "### Regra de Cramer\n",
    "$A \\cdot x = b$ de ordem n  \n",
    "$x_i = \\frac{det(A_i)}{det(A)}, i = 1,\\cdots,n$\n",
    "Cálculo de det pela expansão de Laplace: $3\\times (n-1)!$ flops (operações com ponto flutuante).   \n",
    "* Para n = 20 são 1.53\\*10²⁰ flops.  \n",
    "* Intel core i7 realiza 9\\*10⁹ flops/s\n",
    "* Tempo $ 1.7\\cdot10¹⁰ $ segundos $ \\approx $ 539 anos"
   ]
  },
  {
   "cell_type": "markdown",
   "metadata": {},
   "source": [
    "### Decomposição LU\n",
    "#### Objetivo\n",
    "Dada $A \\in M_n(\\mathbb{R})$, queremos achar $L \\text{ e } U \\in M_n(\\mathbb{R})$ tais que $A = L \\cdot U$, com L possuindo os valores acima de sua diagonal principal iguais a 0 e U e a diagonal principal igual a 1, os valores inferiores a diagonal principal iguais a 0.\n",
    "\n",
    "$$ \\text{\"A\"} \\begin{bmatrix}\n",
    "2 & 0 & 1\\\\\n",
    "4 & 3 & 7\\\\\n",
    "6 & 6 & 16\n",
    "\\end{bmatrix}\n",
    "= \\text{\"L\"}\n",
    "\\begin{bmatrix}\n",
    "1 & 0 & 0\\\\\n",
    "2 & 1 & 0\\\\\n",
    "3 & 2 & 1\n",
    "\\end{bmatrix}\n",
    "\\cdot\n",
    "\\text{\"U\"}\n",
    "\\begin{bmatrix}\n",
    "2 & 0 & 1\\\\\n",
    "0 & 3 & 5\\\\\n",
    "0 & 0 & 3\n",
    "\\end{bmatrix}\n",
    "$$\n",
    "\n",
    "### Exemplo \n",
    "Como resolver $ Ax=b $, com $ b= \\begin{bmatrix} 2 \\\\ 1 \\\\ 4 \\end{bmatrix} $?\n",
    "\n",
    "* $ A=LU  $\n",
    "* $ (LU)x=b $  1) Resolva Ly=b (substituição progressiva)\n",
    "* $ L(Ux) = b $ 2) Ux=y (substituição regressiva)\n",
    "* $ Ux = y $"
   ]
  },
  {
   "cell_type": "markdown",
   "metadata": {},
   "source": [
    "## Existência e Unicidade da desconstrução LU\n",
    "### Teorema:\n",
    "Sejam $ A \\in M_{n}(\\mathbb{R}) $ e $ A_k $ seu menor principal \n",
    "de ordem k. Se $ det(A_k) \\neq 0 \\text{, } k=1,\\cdots,n-1$ então existem únicas L, U tais que $ A=LU $\n",
    "\n",
    "### Definição Menores Principais:\n",
    "Seja $ A \\in M_{n}(\\mathbb{R}) $. Os menores principais são as sub-matrizes da forma \n",
    "$$ A_k = \\begin{bmatrix}\n",
    "          a_{11} & \\cdots & a_{1k} \\\\\n",
    "          a_{21} &        & \\vdots \\\\ \n",
    "          \\vdots &     & \\vdots \\\\\n",
    "          a_{k1} & \\cdots & a_{kk}\n",
    "          \\end{bmatrix} ; k=1,\\cdots,n\n",
    "$$"
   ]
  },
  {
   "cell_type": "markdown",
   "metadata": {},
   "source": [
    "### Calculo do Determinante\n",
    "$$A = L \\cdot U$$\n",
    "$$det(A) = det(L\\cdot U) =  det(L) \\cdot det(U) = det(U) = \\prod_{i=1}^{n} U_{ii}$$"
   ]
  },
  {
   "cell_type": "markdown",
   "metadata": {},
   "source": [
    "### Como fatorar A = LU\n",
    "$$\n",
    "\\begin{bmatrix}\n",
    "a_{11} & \\cdots & a_{1n} \\\\\n",
    "\\cdots & \\cdots & \\cdots \\\\\n",
    "a_{n1} & \\cdots & a_{nn}\n",
    "\\end{bmatrix} = \\begin{bmatrix}\n",
    "1 & 0 & 0 \\\\\n",
    "\\cdots & \\cdots & 0 \\\\\n",
    "l_{n1} & \\cdots & 1\n",
    "\\end{bmatrix}\\begin{bmatrix}\n",
    "u_{11} & \\cdots & u_{1n} \\\\\n",
    "0 & \\cdots & \\cdots \\\\\n",
    "0 & 0 & u_{nn}\n",
    "\\end{bmatrix}\n",
    "$$\n",
    "\n",
    "Cálculo da 1ª linha de U: $u_{1j} = a_{1j}, j=1,\\cdots,n$  \n",
    "Cálculo da 1ª coluna de L: $l_{i1} = \\frac{a_{i1}}{u_{11}}, i=1,\\cdots,n$\n",
    "\n",
    "Cálculo da 2ª linha de U: $u_{2j} = a_{2j} - l_{21}\\cdot u_{1j}, j=2,\\cdots,n$  \n",
    "Cálculo da 2ª coluna de L: $l_{i2} = \\frac{a_{i2} - l_{i1}\\cdot u_{12}}{u_{22}}, i=3,\\cdots,n$\n",
    "\n",
    "E segue assim até completar a matriz."
   ]
  },
  {
   "cell_type": "markdown",
   "metadata": {},
   "source": [
    "### Termo Geral\n",
    "Cálculo de $u_{ij}$, com $j \\geqslant i \\implies a_{ij} = \\sum_{k=1}^{i} l_{ik}\\cdot u_{kj} = \\sum_{k=1}^{i-1} l_{ik}\\cdot u_{kj} + l_{ii}\\cdot u_{ij}$. Então:\n",
    "$$u_{ij} = a_{ij} - \\sum_{k=1}^{i-1} l_{ik}\\cdot u_{kj}$$\n",
    "\n",
    "Cálculo de $l_{ij}$, com $i > j \\implies a_{ij} = \\sum_{k=1}^{j} l_{ik}\\cdot u_{kj} = \\sum_{k=1}^{j-1} l_{ik}\\cdot u_{kj} + l_{ij}\\cdot u_{jj}$. Então:\n",
    "$$l_{ij} = \\frac{a_{ij} - \\sum_{k=1}^{j-1} l_{ik}\\cdot u_{kj}}{u_{jj}}$$"
   ]
  },
  {
   "cell_type": "markdown",
   "metadata": {},
   "source": [
    "#### Exemplo\n",
    "$$\\begin{bmatrix}\n",
    "1 & 2 & 0 \\\\\n",
    "1 & 3 & 1 \\\\\n",
    "-2 & 0 & 1\n",
    "\\end{bmatrix} = \\begin{bmatrix}\n",
    "1 & 0 & 0 \\\\\n",
    "1 & 1 & 0 \\\\\n",
    "-2 & 4 & 1\n",
    "\\end{bmatrix} \\begin{bmatrix}\n",
    "1 & 2 & 0 \\\\\n",
    "0 & 1 & 1 \\\\\n",
    "0 & 0 & -3\n",
    "\\end{bmatrix}\n",
    "$$\n",
    "\n",
    "- Calcule det(A) via LU.\n",
    "- Resolva $A\\cdot x = b$, com $b = \\begin{bmatrix}\n",
    "3 \\\\\n",
    "5 \\\\\n",
    "-1 \\\\\n",
    "\\end{bmatrix}$"
   ]
  },
  {
   "cell_type": "markdown",
   "metadata": {},
   "source": [
    "## Decomposição de Cholesky (trabalho)\n",
    "#### Definição\n",
    "Uma matriz simétrica A $\\in M_n(\\mathbb{R})$ ($A = A^T$) é dita simétrica positiva definida (SPD) se $<v, Av> > 0, \\forall v \\in \\mathbb{R}^n $ não nulo\n",
    "\n",
    "#### Proposição\n",
    "Cada um dos testes abaixo é uma condição necessária e suficiente para verificar se uma matriz simétrica $A \\in M_n(\\mathbb{R})$ é positiva definida.\n",
    "\n",
    "1. det($A_k$) > 0, k = 1, $\\cdots$, n\n",
    "2. todos os autovalores de A são positivos\n",
    "\n",
    "#### Objetivo\n",
    "Dada $A \\in M_n(\\mathbb{R})$ SPD queremos encontrar $H \\in M_n(\\mathbb{R})$ triangular inferior tal que $A = H\\cdot H^T$ com $H = \\begin{bmatrix}\n",
    "h_{11} & \\cdots & 0 \\\\\n",
    "\\vdots & \\ddots & \\vdots \\\\\n",
    "h_{n1} & \\cdots & h_{nn}\n",
    "\\end{bmatrix}; h_{ii} > 0, i = 1, \\cdots, n$. "
   ]
  },
  {
   "cell_type": "markdown",
   "metadata": {},
   "source": [
    "## Cholesky vs LU\n",
    "\n",
    "* LU = $\\frac{2\\cdot n^3}{3}$ flops\n",
    "* cho = $\\frac{n^3}{3}$ flops\n",
    "\n",
    "Portanto, se possível, utilizar o método de cholesky, pois leva metade das operações para realizar a decomposição."
   ]
  },
  {
   "cell_type": "markdown",
   "metadata": {},
   "source": [
    "## Corolário\n",
    "Seja $ A \\in M_n(\\mathbb{R}) $ SPD. Existe uma única matriz triangular inferior $ H \\in M_n(\\mathbb{R}) $ tal que $ A = H.H^T $ "
   ]
  },
  {
   "cell_type": "markdown",
   "metadata": {},
   "source": [
    "# TODO: implementar os métodos em Python"
   ]
  }
 ],
 "metadata": {
  "kernelspec": {
   "display_name": "Python 3",
   "language": "python",
   "name": "python3"
  },
  "language_info": {
   "codemirror_mode": {
    "name": "ipython",
    "version": 3
   },
   "file_extension": ".py",
   "mimetype": "text/x-python",
   "name": "python",
   "nbconvert_exporter": "python",
   "pygments_lexer": "ipython3",
   "version": "3.7.3"
  }
 },
 "nbformat": 4,
 "nbformat_minor": 2
}
